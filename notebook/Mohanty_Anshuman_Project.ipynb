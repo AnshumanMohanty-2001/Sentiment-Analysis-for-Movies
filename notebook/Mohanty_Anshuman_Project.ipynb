{
 "cells": [
  {
   "cell_type": "markdown",
   "id": "e8d2684c-c854-481d-9825-5fabbcc75a6c",
   "metadata": {},
   "source": [
    "<center><h1>Mohanty_Anshuman_Project</h1></center>"
   ]
  },
  {
   "cell_type": "markdown",
   "id": "e1bff3be-b6d7-4cbc-9726-637b508e0adc",
   "metadata": {},
   "source": [
    "Name: Anshuman Mohanty\n",
    "<br>\n",
    "Github Username: AnshumanMohanty-2001\n",
    "<br>\n",
    "USC ID: 4257570790"
   ]
  },
  {
   "cell_type": "markdown",
   "id": "57656a91-9b84-4505-96f1-3645600384fa",
   "metadata": {},
   "source": [
    "## Import packages"
   ]
  },
  {
   "cell_type": "code",
   "execution_count": 1,
   "id": "4439a3fe-7044-47ec-bf72-c1434ef30b66",
   "metadata": {},
   "outputs": [
    {
     "name": "stderr",
     "output_type": "stream",
     "text": [
      "[nltk_data] Downloading package punkt to\n",
      "[nltk_data]     C:\\Users\\anshu\\AppData\\Roaming\\nltk_data...\n",
      "[nltk_data]   Package punkt is already up-to-date!\n"
     ]
    }
   ],
   "source": [
    "import nltk\n",
    "nltk.download('punkt')\n",
    "from nltk.corpus import stopwords\n",
    "from tensorflow.keras.layers import Embedding, LSTM, Dense, Flatten, Dropout, Conv1D, MaxPooling1D, Input\n",
    "from tensorflow.keras.preprocessing.sequence import pad_sequences\n",
    "from tensorflow.keras.preprocessing.text import Tokenizer\n",
    "from tensorflow.keras.models import Sequential\n",
    "from nltk.tokenize import word_tokenize\n",
    "import matplotlib.pyplot as plt\n",
    "import tensorflow as tf\n",
    "import seaborn as sns\n",
    "import pandas as pd\n",
    "import numpy as np\n",
    "import string\n",
    "import keras\n",
    "import os"
   ]
  },
  {
   "cell_type": "markdown",
   "id": "ead47084-fd87-452d-8e2d-764d4c8bcef2",
   "metadata": {},
   "source": [
    "## Data Exploration and Pre-processing"
   ]
  },
  {
   "cell_type": "markdown",
   "id": "0141cabc-c0b0-4e5f-aa57-76641c6a3672",
   "metadata": {},
   "source": [
    "<b>Code Referenced from [1 - 22]</b>"
   ]
  },
  {
   "cell_type": "markdown",
   "id": "bbe90862-af4e-415e-9f78-0e4077d88d1a",
   "metadata": {},
   "source": [
    "i. You can use binary encoding for the sentiments , i.e y = 1 for positive sentiments and y = −1 for negative sentiments."
   ]
  },
  {
   "cell_type": "code",
   "execution_count": 2,
   "id": "c451a400-7f04-4e35-9722-b5cc9030b296",
   "metadata": {},
   "outputs": [],
   "source": [
    "db_path = '../Data/'\n",
    "\n",
    "all_files_pos, all_files_neg = [list() for _ in range(2)]\n",
    "neg_list = []\n",
    "pos_list = []\n",
    "\n",
    "neg_label = []\n",
    "pos_label = []\n",
    "\n",
    "pos_file_no, neg_file_no = [list() for _ in range(2)]\n",
    "\n",
    "\n",
    "for f in os.listdir(os.path.join(db_path, 'neg')):\n",
    "    with open(os.path.join(db_path, 'neg/', f), 'r') as txt_file:\n",
    "        neg_list.append(txt_file.read())\n",
    "\n",
    "for f in os.listdir(os.path.join(db_path, 'pos')):\n",
    "    with open(os.path.join(db_path, 'pos/', f), 'r') as txt_file:\n",
    "        pos_list.append(txt_file.read())\n",
    "# using one and zero for labels due to error with -1\n",
    "neg_label = [0 for _ in range(1000)]\n",
    "pos_label = [1 for _ in range(1000)]"
   ]
  },
  {
   "cell_type": "code",
   "execution_count": 3,
   "id": "a412fd40-c43e-4ae0-9980-28bd56690556",
   "metadata": {},
   "outputs": [
    {
     "data": {
      "text/html": [
       "<div>\n",
       "<style scoped>\n",
       "    .dataframe tbody tr th:only-of-type {\n",
       "        vertical-align: middle;\n",
       "    }\n",
       "\n",
       "    .dataframe tbody tr th {\n",
       "        vertical-align: top;\n",
       "    }\n",
       "\n",
       "    .dataframe thead th {\n",
       "        text-align: right;\n",
       "    }\n",
       "</style>\n",
       "<table border=\"1\" class=\"dataframe\">\n",
       "  <thead>\n",
       "    <tr style=\"text-align: right;\">\n",
       "      <th></th>\n",
       "      <th>text</th>\n",
       "      <th>label</th>\n",
       "    </tr>\n",
       "  </thead>\n",
       "  <tbody>\n",
       "    <tr>\n",
       "      <th>0</th>\n",
       "      <td>films adapted from comic books have had plenty...</td>\n",
       "      <td>1</td>\n",
       "    </tr>\n",
       "    <tr>\n",
       "      <th>1</th>\n",
       "      <td>every now and then a movie comes along from a ...</td>\n",
       "      <td>1</td>\n",
       "    </tr>\n",
       "    <tr>\n",
       "      <th>2</th>\n",
       "      <td>you've got mail works alot better than it dese...</td>\n",
       "      <td>1</td>\n",
       "    </tr>\n",
       "    <tr>\n",
       "      <th>3</th>\n",
       "      <td>\" jaws \" is a rare film that grabs your atten...</td>\n",
       "      <td>1</td>\n",
       "    </tr>\n",
       "    <tr>\n",
       "      <th>4</th>\n",
       "      <td>moviemaking is a lot like being the general ma...</td>\n",
       "      <td>1</td>\n",
       "    </tr>\n",
       "  </tbody>\n",
       "</table>\n",
       "</div>"
      ],
      "text/plain": [
       "                                                text  label\n",
       "0  films adapted from comic books have had plenty...      1\n",
       "1  every now and then a movie comes along from a ...      1\n",
       "2  you've got mail works alot better than it dese...      1\n",
       "3   \" jaws \" is a rare film that grabs your atten...      1\n",
       "4  moviemaking is a lot like being the general ma...      1"
      ]
     },
     "execution_count": 3,
     "metadata": {},
     "output_type": "execute_result"
    }
   ],
   "source": [
    "pos_dict = {'text': pos_list, 'label': pos_label}\n",
    "temp_pos_df = pd.DataFrame(pos_dict)\n",
    "temp_pos_df.head()"
   ]
  },
  {
   "cell_type": "code",
   "execution_count": 4,
   "id": "fc8cd42a-4724-469f-8618-8bdaa0ce79da",
   "metadata": {},
   "outputs": [
    {
     "data": {
      "text/html": [
       "<div>\n",
       "<style scoped>\n",
       "    .dataframe tbody tr th:only-of-type {\n",
       "        vertical-align: middle;\n",
       "    }\n",
       "\n",
       "    .dataframe tbody tr th {\n",
       "        vertical-align: top;\n",
       "    }\n",
       "\n",
       "    .dataframe thead th {\n",
       "        text-align: right;\n",
       "    }\n",
       "</style>\n",
       "<table border=\"1\" class=\"dataframe\">\n",
       "  <thead>\n",
       "    <tr style=\"text-align: right;\">\n",
       "      <th></th>\n",
       "      <th>text</th>\n",
       "      <th>label</th>\n",
       "    </tr>\n",
       "  </thead>\n",
       "  <tbody>\n",
       "    <tr>\n",
       "      <th>0</th>\n",
       "      <td>plot : two teen couples go to a church party ,...</td>\n",
       "      <td>0</td>\n",
       "    </tr>\n",
       "    <tr>\n",
       "      <th>1</th>\n",
       "      <td>the happy bastard's quick movie review \\ndamn ...</td>\n",
       "      <td>0</td>\n",
       "    </tr>\n",
       "    <tr>\n",
       "      <th>2</th>\n",
       "      <td>it is movies like these that make a jaded movi...</td>\n",
       "      <td>0</td>\n",
       "    </tr>\n",
       "    <tr>\n",
       "      <th>3</th>\n",
       "      <td>\" quest for camelot \" is warner bros . ' firs...</td>\n",
       "      <td>0</td>\n",
       "    </tr>\n",
       "    <tr>\n",
       "      <th>4</th>\n",
       "      <td>synopsis : a mentally unstable man undergoing ...</td>\n",
       "      <td>0</td>\n",
       "    </tr>\n",
       "  </tbody>\n",
       "</table>\n",
       "</div>"
      ],
      "text/plain": [
       "                                                text  label\n",
       "0  plot : two teen couples go to a church party ,...      0\n",
       "1  the happy bastard's quick movie review \\ndamn ...      0\n",
       "2  it is movies like these that make a jaded movi...      0\n",
       "3   \" quest for camelot \" is warner bros . ' firs...      0\n",
       "4  synopsis : a mentally unstable man undergoing ...      0"
      ]
     },
     "execution_count": 4,
     "metadata": {},
     "output_type": "execute_result"
    }
   ],
   "source": [
    "neg_dict = {'text': neg_list, 'label': neg_label}\n",
    "temp_neg_df = pd.DataFrame(neg_dict)\n",
    "temp_neg_df.head()"
   ]
  },
  {
   "cell_type": "markdown",
   "id": "a5c90820-efb1-4999-a8d8-cdc5e9ea4549",
   "metadata": {},
   "source": [
    "ii. The data are pretty clean. Remove the punctuation and numbers from the data."
   ]
  },
  {
   "cell_type": "code",
   "execution_count": 5,
   "id": "da91d191-c764-4750-a8c2-bdbee972b720",
   "metadata": {},
   "outputs": [],
   "source": [
    "temp_neg_df['text'] = temp_neg_df['text'].str.replace('\\d+', '', regex=True)\n",
    "temp_pos_df['text'] = temp_pos_df['text'].str.replace('\\d+', '', regex=True)\n",
    "\n",
    "temp_neg_df['text'] = temp_neg_df['text'].str.replace('[^\\w\\s]', '', regex=True)\n",
    "temp_pos_df['text'] = temp_pos_df['text'].str.replace('[^\\w\\s]', '', regex=True)\n",
    "\n",
    "temp_neg_df['text'] = temp_neg_df['text'].str.replace('_', '', regex=True)\n",
    "temp_pos_df['text'] = temp_pos_df['text'].str.replace('_', '', regex=True)"
   ]
  },
  {
   "cell_type": "markdown",
   "id": "3c2ab934-8a4c-416f-b6eb-8d931c330b89",
   "metadata": {},
   "source": [
    "Data is free of all punctuations and numbers"
   ]
  },
  {
   "cell_type": "markdown",
   "id": "9dde9d88-e637-48c8-8fc5-90fe240c8dd5",
   "metadata": {},
   "source": [
    " iii. The name of each text file starts with cv_number. Use text files 0-699 in each class for training and 700-999 for testing"
   ]
  },
  {
   "cell_type": "code",
   "execution_count": 7,
   "id": "257e8df0-40f0-4986-b302-f30582e96cbb",
   "metadata": {},
   "outputs": [],
   "source": [
    "train_pos_df = temp_pos_df.iloc[:700,:]\n",
    "test_pos_df = temp_pos_df.iloc[700:,:]\n",
    "\n",
    "train_neg_df = temp_neg_df.iloc[:700,:]\n",
    "test_neg_df = temp_neg_df.iloc[700:,:]"
   ]
  },
  {
   "cell_type": "markdown",
   "id": "a3a47564-1076-40f7-88d3-c79fd2b28c6e",
   "metadata": {},
   "source": [
    "Now combining the train, test and the entire dataset after shuffling the data points."
   ]
  },
  {
   "cell_type": "code",
   "execution_count": 8,
   "id": "f7b6c9c4-6a23-4fbe-9e8e-4fd9a0b66cbb",
   "metadata": {},
   "outputs": [],
   "source": [
    "train_df = pd.concat([train_pos_df, train_neg_df])\n",
    "train_df = train_df.sample(frac=1, random_state = 20).reset_index(drop=True)\n",
    "test_df = pd.concat([test_pos_df, test_neg_df])\n",
    "test_df = test_df.sample(frac=1, random_state = 20).reset_index(drop=True)\n",
    "\n",
    "final_df = pd.concat([train_df, test_df])"
   ]
  },
  {
   "cell_type": "markdown",
   "id": "54b2d35a-4e46-419a-aa74-b4b4251745e4",
   "metadata": {},
   "source": [
    "iv. Count the number of unique words in the whole dataset (train + test) and print it out."
   ]
  },
  {
   "cell_type": "code",
   "execution_count": 9,
   "id": "bf8f3aaf-8358-4384-8b86-d3a673b4fc86",
   "metadata": {},
   "outputs": [
    {
     "name": "stdout",
     "output_type": "stream",
     "text": [
      "Total Unique Words: 46782\n"
     ]
    }
   ],
   "source": [
    "get_total_text_list = final_df['text'].tolist()\n",
    "get_text_string = ' '.join(get_total_text_list)\n",
    "total_words = word_tokenize(get_text_string)\n",
    "\n",
    "print(f'Total Unique Words: {len(set(total_words))}')"
   ]
  },
  {
   "cell_type": "markdown",
   "id": "5cd678aa-3830-441d-8499-9ca12e133685",
   "metadata": {},
   "source": [
    "v. Calculate the average review length and the standard deviation of review lengths. Report the results."
   ]
  },
  {
   "cell_type": "code",
   "execution_count": 10,
   "id": "122b2817-6155-48f3-a923-c1f229bd2c43",
   "metadata": {},
   "outputs": [
    {
     "name": "stdout",
     "output_type": "stream",
     "text": [
      "Average Review Length: 644.464\n",
      "Standard deviation of Review Length: 285.0949846614977\n"
     ]
    }
   ],
   "source": [
    "final_df['tokens'] = final_df['text'].apply(word_tokenize)\n",
    "final_df['review length'] = final_df['tokens'].apply(len)\n",
    "print(f\"Average Review Length: {final_df['review length'].mean()}\")\n",
    "print(f\"Standard deviation of Review Length: {final_df['review length'].std()}\")"
   ]
  },
  {
   "cell_type": "markdown",
   "id": "fd1c74c5-2d8c-46a3-8176-0e144a7fa251",
   "metadata": {},
   "source": [
    "vi. Plot the histogram of review lengths."
   ]
  },
  {
   "cell_type": "code",
   "execution_count": 11,
   "id": "2ed31051-f599-4335-9d91-12e3188b6931",
   "metadata": {},
   "outputs": [
    {
     "data": {
      "text/plain": [
       "Text(0.5, 1.0, 'Histogram')"
      ]
     },
     "execution_count": 11,
     "metadata": {},
     "output_type": "execute_result"
    },
    {
     "data": {
      "image/png": "[encoded data removed]",
      "text/plain": [
       "<Figure size 640x480 with 1 Axes>"
      ]
     },
     "metadata": {},
     "output_type": "display_data"
    }
   ],
   "source": [
    "sns.histplot(final_df['review length'])\n",
    "plt.title('Histogram')"
   ]
  },
  {
   "cell_type": "markdown",
   "id": "6620b685-5fc1-4e41-a50a-2f78d429f2b3",
   "metadata": {},
   "source": [
    "The histogram is slightly skewed towards the right."
   ]
  },
  {
   "cell_type": "markdown",
   "id": "a7b130f2-b8d8-4df9-8e0d-9f65a31d98dd",
   "metadata": {},
   "source": [
    "vii. To represent each text (= data point), there are many ways. In NLP/Deep Learning terminology, this task is called tokenization. It is common to represent text using popularity/ rank of words in text. The most common word in the text will be represented as 1, the second most common word will be\n",
    " represented as 2, etc. Tokenize each text document using this method."
   ]
  },
  {
   "cell_type": "markdown",
   "id": "f7354922-d9c2-4db9-b9d3-ff0dc57bbf10",
   "metadata": {},
   "source": [
    "Tokenizing the train and test sets for top 5000 words"
   ]
  },
  {
   "cell_type": "code",
   "execution_count": 12,
   "id": "2c0307c0-2509-4892-b68d-c26db8f7e85b",
   "metadata": {},
   "outputs": [],
   "source": [
    "tokn = Tokenizer(num_words = 5000)\n",
    "tokn.fit_on_texts(final_df['text'])\n",
    "se = tokn.texts_to_sequences(final_df['text'])"
   ]
  },
  {
   "cell_type": "markdown",
   "id": "ef7ae308-ab00-4536-adc4-8eb6b3d65773",
   "metadata": {},
   "source": [
    "viii. Select a review length L that 70% of the reviews have a length below it. If you feel more adventurous, set the threshold to 90%."
   ]
  },
  {
   "cell_type": "code",
   "execution_count": 13,
   "id": "5a022ffb-da0a-4ba8-9d99-256ddb621dd9",
   "metadata": {},
   "outputs": [
    {
     "name": "stdout",
     "output_type": "stream",
     "text": [
      "Threshold value for review length at 70%: 737\n",
      "Threshold value for review length at 90%: 993\n"
     ]
    }
   ],
   "source": [
    "L_val = int(np.percentile(final_df['review length'], 70))\n",
    "print(f'Threshold value for review length at 70%: {L_val}')\n",
    "L_temp = int(np.percentile(final_df['review length'], 90))\n",
    "print(f'Threshold value for review length at 90%: {L_temp}')"
   ]
  },
  {
   "cell_type": "markdown",
   "id": "355e0c74-c9c7-4b34-b799-57eae85cf55f",
   "metadata": {},
   "source": [
    "I will be using L at 70% threshold for subsequent steps."
   ]
  },
  {
   "cell_type": "markdown",
   "id": "57f30a3f-09fc-41ef-85fb-76bb34b3449e",
   "metadata": {},
   "source": [
    "ix. Truncate reviews longer than L words and zero-pad reviews shorter than L so that all texts (= data points) are of length L."
   ]
  },
  {
   "cell_type": "markdown",
   "id": "1270619e-b7ca-407d-b783-32fffb866e59",
   "metadata": {},
   "source": [
    "I have chosen padding = post"
   ]
  },
  {
   "cell_type": "code",
   "execution_count": 87,
   "id": "19ec03c0-f7cb-4865-8c12-85581f2a6605",
   "metadata": {},
   "outputs": [],
   "source": [
    "pd_list = pad_sequences(se, padding='pre', truncating='post', maxlen = L_val)"
   ]
  },
  {
   "cell_type": "code",
   "execution_count": 88,
   "id": "34fcb4e8-2335-4a64-a737-fb8d1d01353e",
   "metadata": {},
   "outputs": [],
   "source": [
    "X_train = pd_list[:1400]\n",
    "y_train = train_df['label']\n",
    "X_test = pd_list[1400:]\n",
    "y_test = test_df['label']"
   ]
  },
  {
   "cell_type": "markdown",
   "id": "7d3c4949-0d90-4856-874d-02eab4a7a4f8",
   "metadata": {},
   "source": [
    "## Word Embeddings"
   ]
  },
  {
   "cell_type": "markdown",
   "id": "8d20bf39-cb5e-4381-ac38-2a5daf1d5a59",
   "metadata": {},
   "source": [
    "<b>Referenced from [23 - 24]</b>"
   ]
  },
  {
   "cell_type": "code",
   "execution_count": 89,
   "id": "ad42dde8-7e2c-43a1-9ea0-25014112485e",
   "metadata": {},
   "outputs": [
    {
     "name": "stderr",
     "output_type": "stream",
     "text": [
      "D:\\Anaconda\\Lib\\site-packages\\keras\\src\\layers\\core\\embedding.py:90: UserWarning: Argument `input_length` is deprecated. Just remove it.\n",
      "  warnings.warn(\n"
     ]
    },
    {
     "name": "stdout",
     "output_type": "stream",
     "text": [
      "\u001b[1m44/44\u001b[0m \u001b[32m━━━━━━━━━━━━━━━━━━━━\u001b[0m\u001b[37m\u001b[0m \u001b[1m1s\u001b[0m 7ms/step\n",
      "\u001b[1m19/19\u001b[0m \u001b[32m━━━━━━━━━━━━━━━━━━━━\u001b[0m\u001b[37m\u001b[0m \u001b[1m0s\u001b[0m 1ms/step \n"
     ]
    }
   ],
   "source": [
    "we_model = Sequential()\n",
    "we_model.add(Embedding(5000, 32, input_length =L_val))\n",
    "we_model.add(Flatten())\n",
    "\n",
    "ip_x_train_em = we_model.predict(X_train)\n",
    "ip_x_test_em = we_model.predict(X_test)"
   ]
  },
  {
   "cell_type": "code",
   "execution_count": 90,
   "id": "8d219e26-8ee0-4442-ac75-21bcb93d49b1",
   "metadata": {},
   "outputs": [
    {
     "name": "stdout",
     "output_type": "stream",
     "text": [
      "[[-0.00466231 -0.00699896  0.00821758 ...  0.03204398  0.00808956\n",
      "  -0.01007963]\n",
      " [-0.02527197 -0.02592266  0.0234389  ...  0.00555962  0.01751277\n",
      "  -0.00413533]\n",
      " [-0.00466231 -0.00699896  0.00821758 ...  0.01457539 -0.01895883\n",
      "   0.02367387]\n",
      " ...\n",
      " [ 0.01405472  0.02898509 -0.03452066 ... -0.00134988  0.00464506\n",
      "  -0.049989  ]\n",
      " [-0.00466231 -0.00699896  0.00821758 ...  0.01491498  0.00384467\n",
      "  -0.02321517]\n",
      " [-0.00466231 -0.00699896  0.00821758 ...  0.04571695  0.00884359\n",
      "   0.03458077]]\n"
     ]
    }
   ],
   "source": [
    "print(ip_x_train_em)"
   ]
  },
  {
   "cell_type": "code",
   "execution_count": 91,
   "id": "c40b714b-c134-43c8-96cd-5ecb7ec93387",
   "metadata": {},
   "outputs": [
    {
     "name": "stdout",
     "output_type": "stream",
     "text": [
      "[[-0.03998373  0.01938257 -0.00822104 ...  0.02638685 -0.03851936\n",
      "   0.00734724]\n",
      " [-0.02921168 -0.03806461  0.00430651 ... -0.04629165  0.00493003\n",
      "  -0.04220878]\n",
      " [-0.00466231 -0.00699896  0.00821758 ...  0.03314951  0.00451306\n",
      "   0.03302195]\n",
      " ...\n",
      " [-0.00466231 -0.00699896  0.00821758 ...  0.03611746  0.02853684\n",
      "  -0.01493963]\n",
      " [ 0.00478754  0.01070511  0.04007572 ... -0.04387065  0.01985922\n",
      "   0.01671561]\n",
      " [ 0.00277699  0.02106814 -0.00412542 ... -0.02551821  0.04882187\n",
      "  -0.02089449]]\n"
     ]
    }
   ],
   "source": [
    "print(ip_x_test_em)"
   ]
  },
  {
   "cell_type": "markdown",
   "id": "e56590ff-eca6-48e0-9dee-54d388affb80",
   "metadata": {},
   "source": [
    "## Multi Layer Perceptron"
   ]
  },
  {
   "cell_type": "markdown",
   "id": "9e6b6fcd-7d17-490f-9b49-3cd6c873ece7",
   "metadata": {},
   "source": [
    "<b>Referenced from [25 - 27]</b>"
   ]
  },
  {
   "cell_type": "code",
   "execution_count": 95,
   "id": "a31a7cf9-8a1b-4ee3-8534-9cc10f99d1d6",
   "metadata": {},
   "outputs": [
    {
     "name": "stdout",
     "output_type": "stream",
     "text": [
      "Epoch 1/2\n",
      "\u001b[1m140/140\u001b[0m \u001b[32m━━━━━━━━━━━━━━━━━━━━\u001b[0m\u001b[37m\u001b[0m \u001b[1m8s\u001b[0m 19ms/step - accuracy: 0.5081 - loss: 0.7013 - val_accuracy: 0.5667 - val_loss: 0.6867\n",
      "Epoch 2/2\n",
      "\u001b[1m140/140\u001b[0m \u001b[32m━━━━━━━━━━━━━━━━━━━━\u001b[0m\u001b[37m\u001b[0m \u001b[1m2s\u001b[0m 17ms/step - accuracy: 0.6074 - loss: 0.6521 - val_accuracy: 0.6417 - val_loss: 0.6309\n",
      "\u001b[1m44/44\u001b[0m \u001b[32m━━━━━━━━━━━━━━━━━━━━\u001b[0m\u001b[37m\u001b[0m \u001b[1m0s\u001b[0m 3ms/step - accuracy: 0.9150 - loss: 0.2613\n",
      "\u001b[1m19/19\u001b[0m \u001b[32m━━━━━━━━━━━━━━━━━━━━\u001b[0m\u001b[37m\u001b[0m \u001b[1m0s\u001b[0m 3ms/step - accuracy: 0.6732 - loss: 0.6025 \n",
      "Training Accuracy: 0.9164285659790039\n",
      "Testing Accuracy: 0.6416666507720947\n"
     ]
    }
   ],
   "source": [
    "multi_md = Sequential()\n",
    "multi_md.add(Embedding(input_dim=5000, output_dim=32, input_length=L_val))\n",
    "multi_md.add(Flatten())\n",
    "multi_md.add(Dense(50, activation='relu'))\n",
    "multi_md.add(Dropout(0.2))\n",
    "multi_md.add(Dense(50, activation='relu'))\n",
    "multi_md.add(Dropout(0.5))\n",
    "multi_md.add(Dense(50, activation='relu'))\n",
    "multi_md.add(Dropout(0.5))\n",
    "multi_md.add(Dense(1, activation='sigmoid'))\n",
    "\n",
    "multi_md.compile(optimizer='adam', loss='binary_crossentropy', metrics=['accuracy'])\n",
    "\n",
    "multi_md.fit(X_train, y_train, epochs=2, batch_size=10, validation_data=(X_test, y_test))\n",
    "\n",
    "_, train_acc = multi_md.evaluate(X_train, y_train)\n",
    "_, test_acc = multi_md.evaluate(X_test, y_test)\n",
    "print(f\"Training Accuracy: {train_acc}\")\n",
    "print(f\"Testing Accuracy: {test_acc}\")"
   ]
  },
  {
   "cell_type": "markdown",
   "id": "a2fca29a-ca8f-421c-ba77-3c765ac77b9a",
   "metadata": {},
   "source": [
    "## 1D CNN"
   ]
  },
  {
   "cell_type": "markdown",
   "id": "05657588-663d-4921-9a9f-7b142bbf63cc",
   "metadata": {},
   "source": [
    "<b>Referenced from [28]</b>"
   ]
  },
  {
   "cell_type": "code",
   "execution_count": 99,
   "id": "32ea7cc5-4b10-43cb-becb-911d8ba3ec29",
   "metadata": {},
   "outputs": [
    {
     "name": "stdout",
     "output_type": "stream",
     "text": [
      "Epoch 1/2\n",
      "\u001b[1m140/140\u001b[0m \u001b[32m━━━━━━━━━━━━━━━━━━━━\u001b[0m\u001b[37m\u001b[0m \u001b[1m3s\u001b[0m 13ms/step - accuracy: 0.5211 - loss: 0.6989 - val_accuracy: 0.4983 - val_loss: 0.6923\n",
      "Epoch 2/2\n",
      "\u001b[1m140/140\u001b[0m \u001b[32m━━━━━━━━━━━━━━━━━━━━\u001b[0m\u001b[37m\u001b[0m \u001b[1m2s\u001b[0m 11ms/step - accuracy: 0.5059 - loss: 0.6940 - val_accuracy: 0.5450 - val_loss: 0.6925\n",
      "\u001b[1m44/44\u001b[0m \u001b[32m━━━━━━━━━━━━━━━━━━━━\u001b[0m\u001b[37m\u001b[0m \u001b[1m0s\u001b[0m 4ms/step - accuracy: 0.6338 - loss: 0.6908\n",
      "\u001b[1m19/19\u001b[0m \u001b[32m━━━━━━━━━━━━━━━━━━━━\u001b[0m\u001b[37m\u001b[0m \u001b[1m0s\u001b[0m 4ms/step - accuracy: 0.5422 - loss: 0.6925\n",
      "Train Accuracy: 0.6278571486473083\n",
      "Test Accuracy: 0.5450000166893005\n"
     ]
    }
   ],
   "source": [
    "conv_1d_model = Sequential()\n",
    "conv_1d_model.add(Embedding(input_dim=5000, output_dim=32, input_length=L_val))\n",
    "conv_1d_model.add(Conv1D(kernel_size=3, filters=32, activation='relu'))\n",
    "conv_1d_model.add(MaxPooling1D(pool_size=2, strides=2))\n",
    "conv_1d_model.add(Flatten())\n",
    "conv_1d_model.add(Dense(50, activation='relu'))\n",
    "conv_1d_model.add(Dropout(0.2))\n",
    "conv_1d_model.add(Dense(50, activation='relu'))\n",
    "conv_1d_model.add(Dropout(0.5))\n",
    "conv_1d_model.add(Dense(50, activation='relu'))\n",
    "conv_1d_model.add(Dropout(0.5))\n",
    "conv_1d_model.add(Dense(1, activation='sigmoid'))\n",
    "\n",
    "conv_1d_model.compile(optimizer='adam', loss='binary_crossentropy', metrics=['accuracy'])\n",
    "conv_1d_model.fit(X_train, y_train, epochs=2, batch_size=10, validation_data=(X_test, y_test))\n",
    "\n",
    "_, train_acc = conv_1d_model.evaluate(X_train, y_train)\n",
    "_, test_acc = conv_1d_model.evaluate(X_test, y_test)\n",
    "\n",
    "print(f\"Train Accuracy: {train_acc}\")\n",
    "print(f\"Test Accuracy: {test_acc}\")"
   ]
  },
  {
   "cell_type": "markdown",
   "id": "e1b57396-8c8b-4f43-9b15-3cbd259ff744",
   "metadata": {},
   "source": [
    "## LSTM"
   ]
  },
  {
   "cell_type": "markdown",
   "id": "9e617fd3-7133-4b21-9ef9-4e321a3368af",
   "metadata": {},
   "source": [
    "<b>Referenced from [29 - 30]</b>"
   ]
  },
  {
   "cell_type": "code",
   "execution_count": 92,
   "id": "d652c331-0057-49ec-a4f0-491f44dc7d83",
   "metadata": {},
   "outputs": [
    {
     "name": "stdout",
     "output_type": "stream",
     "text": [
      "Epoch 1/10\n",
      "\u001b[1m140/140\u001b[0m \u001b[32m━━━━━━━━━━━━━━━━━━━━\u001b[0m\u001b[37m\u001b[0m \u001b[1m17s\u001b[0m 109ms/step - accuracy: 0.5202 - loss: 0.6921 - val_accuracy: 0.5900 - val_loss: 0.6710\n",
      "Epoch 2/10\n",
      "\u001b[1m140/140\u001b[0m \u001b[32m━━━━━━━━━━━━━━━━━━━━\u001b[0m\u001b[37m\u001b[0m \u001b[1m15s\u001b[0m 106ms/step - accuracy: 0.7667 - loss: 0.5398 - val_accuracy: 0.7267 - val_loss: 0.5956\n",
      "Epoch 3/10\n",
      "\u001b[1m140/140\u001b[0m \u001b[32m━━━━━━━━━━━━━━━━━━━━\u001b[0m\u001b[37m\u001b[0m \u001b[1m15s\u001b[0m 106ms/step - accuracy: 0.9252 - loss: 0.1992 - val_accuracy: 0.7183 - val_loss: 0.6787\n",
      "Epoch 4/10\n",
      "\u001b[1m140/140\u001b[0m \u001b[32m━━━━━━━━━━━━━━━━━━━━\u001b[0m\u001b[37m\u001b[0m \u001b[1m15s\u001b[0m 107ms/step - accuracy: 0.9707 - loss: 0.0943 - val_accuracy: 0.7133 - val_loss: 0.9005\n",
      "Epoch 5/10\n",
      "\u001b[1m140/140\u001b[0m \u001b[32m━━━━━━━━━━━━━━━━━━━━\u001b[0m\u001b[37m\u001b[0m \u001b[1m15s\u001b[0m 107ms/step - accuracy: 0.9875 - loss: 0.0342 - val_accuracy: 0.6900 - val_loss: 1.0238\n",
      "Epoch 6/10\n",
      "\u001b[1m140/140\u001b[0m \u001b[32m━━━━━━━━━━━━━━━━━━━━\u001b[0m\u001b[37m\u001b[0m \u001b[1m15s\u001b[0m 110ms/step - accuracy: 0.9947 - loss: 0.0247 - val_accuracy: 0.7200 - val_loss: 1.2346\n",
      "Epoch 7/10\n",
      "\u001b[1m140/140\u001b[0m \u001b[32m━━━━━━━━━━━━━━━━━━━━\u001b[0m\u001b[37m\u001b[0m \u001b[1m16s\u001b[0m 113ms/step - accuracy: 0.9938 - loss: 0.0191 - val_accuracy: 0.6750 - val_loss: 1.0593\n",
      "Epoch 8/10\n",
      "\u001b[1m140/140\u001b[0m \u001b[32m━━━━━━━━━━━━━━━━━━━━\u001b[0m\u001b[37m\u001b[0m \u001b[1m16s\u001b[0m 112ms/step - accuracy: 0.9954 - loss: 0.0235 - val_accuracy: 0.7017 - val_loss: 1.4156\n",
      "Epoch 9/10\n",
      "\u001b[1m140/140\u001b[0m \u001b[32m━━━━━━━━━━━━━━━━━━━━\u001b[0m\u001b[37m\u001b[0m \u001b[1m16s\u001b[0m 112ms/step - accuracy: 0.9996 - loss: 0.0043 - val_accuracy: 0.6767 - val_loss: 1.5511\n",
      "Epoch 10/10\n",
      "\u001b[1m140/140\u001b[0m \u001b[32m━━━━━━━━━━━━━━━━━━━━\u001b[0m\u001b[37m\u001b[0m \u001b[1m16s\u001b[0m 115ms/step - accuracy: 0.9919 - loss: 0.0239 - val_accuracy: 0.6967 - val_loss: 1.3361\n",
      "\u001b[1m44/44\u001b[0m \u001b[32m━━━━━━━━━━━━━━━━━━━━\u001b[0m\u001b[37m\u001b[0m \u001b[1m2s\u001b[0m 40ms/step - accuracy: 0.9995 - loss: 0.0033\n",
      "\u001b[1m19/19\u001b[0m \u001b[32m━━━━━━━━━━━━━━━━━━━━\u001b[0m\u001b[37m\u001b[0m \u001b[1m1s\u001b[0m 40ms/step - accuracy: 0.7140 - loss: 1.2370\n",
      "Train Accuracy: 0.9985714554786682\n",
      "Test Accuracy: 0.6966666579246521\n"
     ]
    }
   ],
   "source": [
    "model_lstm = Sequential()\n",
    "model_lstm.add(Embedding(input_dim=5000, output_dim=32, input_length=L_val))\n",
    "model_lstm.add(LSTM(32, dropout=0.2))\n",
    "model_lstm.add(Dense(256, activation='relu'))\n",
    "model_lstm.add(Dropout(0.2))\n",
    "model_lstm.add(Dense(1, activation='sigmoid'))\n",
    "\n",
    "model_lstm.compile(optimizer='adam', loss='binary_crossentropy', metrics=['accuracy'])\n",
    "model_lstm.fit(X_train, y_train, epochs=10, batch_size=10, validation_data=(X_test, y_test))\n",
    "\n",
    "_, train_accuracy = model_lstm.evaluate(X_train, y_train)\n",
    "_, test_accuracy = model_lstm.evaluate(X_test, y_test)\n",
    "\n",
    "print(f\"Train Accuracy: {train_accuracy}\")\n",
    "print(f\"Test Accuracy: {test_accuracy}\")"
   ]
  },
  {
   "cell_type": "markdown",
   "id": "4a1a3ca2-7008-40b3-b216-5f741dd09e21",
   "metadata": {},
   "source": [
    "## Additional"
   ]
  },
  {
   "cell_type": "markdown",
   "id": "2eb0d56a-7daa-4e32-9738-012903b8d163",
   "metadata": {},
   "source": [
    "In this section, I have tried out with padding = post. Following is the code"
   ]
  },
  {
   "cell_type": "markdown",
   "id": "ae16d6b8-1ece-4498-83a6-5263276d7119",
   "metadata": {},
   "source": [
    "### Padding"
   ]
  },
  {
   "cell_type": "code",
   "execution_count": 22,
   "id": "5d425316-f6ed-439f-b03b-1555ca2a1838",
   "metadata": {},
   "outputs": [],
   "source": [
    "pd_list = pad_sequences(se, padding='post', truncating='post', maxlen = L_val)"
   ]
  },
  {
   "cell_type": "code",
   "execution_count": 23,
   "id": "fe024aa2-649a-4014-87a8-8285bd99fad7",
   "metadata": {},
   "outputs": [],
   "source": [
    "X_train = pd_list[:1400]\n",
    "y_train = train_df['label']\n",
    "X_test = pd_list[1400:]\n",
    "y_test = test_df['label']"
   ]
  },
  {
   "cell_type": "code",
   "execution_count": 24,
   "id": "5c833da3-b756-4004-93f2-cf26eafcbaec",
   "metadata": {},
   "outputs": [
    {
     "name": "stderr",
     "output_type": "stream",
     "text": [
      "D:\\Anaconda\\Lib\\site-packages\\keras\\src\\layers\\core\\embedding.py:90: UserWarning: Argument `input_length` is deprecated. Just remove it.\n",
      "  warnings.warn(\n"
     ]
    },
    {
     "name": "stdout",
     "output_type": "stream",
     "text": [
      "\u001b[1m44/44\u001b[0m \u001b[32m━━━━━━━━━━━━━━━━━━━━\u001b[0m\u001b[37m\u001b[0m \u001b[1m1s\u001b[0m 8ms/step\n",
      "\u001b[1m19/19\u001b[0m \u001b[32m━━━━━━━━━━━━━━━━━━━━\u001b[0m\u001b[37m\u001b[0m \u001b[1m0s\u001b[0m 2ms/step \n"
     ]
    }
   ],
   "source": [
    "we_model = Sequential()\n",
    "we_model.add(Embedding(5000, 32, input_length =L_val))\n",
    "we_model.add(Flatten())\n",
    "\n",
    "ip_x_train_em = we_model.predict(X_train)\n",
    "ip_x_test_em = we_model.predict(X_test)"
   ]
  },
  {
   "cell_type": "markdown",
   "id": "54fe1bc1-1ff5-4ee3-8a16-7a2964db680e",
   "metadata": {},
   "source": [
    "### MLP"
   ]
  },
  {
   "cell_type": "code",
   "execution_count": 29,
   "id": "7a849218-3aac-40e9-b3f9-b7276f896fd7",
   "metadata": {},
   "outputs": [
    {
     "name": "stdout",
     "output_type": "stream",
     "text": [
      "Epoch 1/2\n",
      "\u001b[1m140/140\u001b[0m \u001b[32m━━━━━━━━━━━━━━━━━━━━\u001b[0m\u001b[37m\u001b[0m \u001b[1m4s\u001b[0m 19ms/step - accuracy: 0.5293 - loss: 0.7035 - val_accuracy: 0.5417 - val_loss: 0.6873\n",
      "Epoch 2/2\n",
      "\u001b[1m140/140\u001b[0m \u001b[32m━━━━━━━━━━━━━━━━━━━━\u001b[0m\u001b[37m\u001b[0m \u001b[1m2s\u001b[0m 17ms/step - accuracy: 0.5504 - loss: 0.6832 - val_accuracy: 0.6267 - val_loss: 0.6634\n",
      "\u001b[1m44/44\u001b[0m \u001b[32m━━━━━━━━━━━━━━━━━━━━\u001b[0m\u001b[37m\u001b[0m \u001b[1m0s\u001b[0m 3ms/step - accuracy: 0.8132 - loss: 0.5415\n",
      "\u001b[1m19/19\u001b[0m \u001b[32m━━━━━━━━━━━━━━━━━━━━\u001b[0m\u001b[37m\u001b[0m \u001b[1m0s\u001b[0m 3ms/step - accuracy: 0.6460 - loss: 0.6598 \n",
      "Training Accuracy: 0.8100000023841858\n",
      "Testing Accuracy: 0.6266666650772095\n"
     ]
    }
   ],
   "source": [
    "\n",
    "multi_md = Sequential()\n",
    "multi_md.add(Embedding(input_dim=5000, output_dim=32, input_length=L_val))\n",
    "multi_md.add(Flatten())\n",
    "multi_md.add(Dense(50, activation='relu'))\n",
    "multi_md.add(Dropout(0.2))\n",
    "multi_md.add(Dense(50, activation='relu'))\n",
    "multi_md.add(Dropout(0.5))\n",
    "multi_md.add(Dense(50, activation='relu'))\n",
    "multi_md.add(Dropout(0.5))\n",
    "multi_md.add(Dense(1, activation='sigmoid'))\n",
    "\n",
    "multi_md.compile(optimizer='adam', loss='binary_crossentropy', metrics=['accuracy'])\n",
    "\n",
    "multi_md.fit(X_train, y_train, epochs=2, batch_size=10, validation_data=(X_test, y_test))\n",
    "\n",
    "_, train_acc = multi_md.evaluate(X_train, y_train)\n",
    "_, test_acc = multi_md.evaluate(X_test, y_test)\n",
    "print(f\"Training Accuracy: {train_acc}\")\n",
    "print(f\"Testing Accuracy: {test_acc}\")"
   ]
  },
  {
   "cell_type": "markdown",
   "id": "ab3d9694-c5bd-48f6-b083-970663ecf2b9",
   "metadata": {},
   "source": [
    "### CNN"
   ]
  },
  {
   "cell_type": "code",
   "execution_count": 55,
   "id": "dada98bc-2c00-4612-b4aa-2c173bff13a8",
   "metadata": {},
   "outputs": [
    {
     "name": "stdout",
     "output_type": "stream",
     "text": [
      "Epoch 1/2\n",
      "\u001b[1m140/140\u001b[0m \u001b[32m━━━━━━━━━━━━━━━━━━━━\u001b[0m\u001b[37m\u001b[0m \u001b[1m3s\u001b[0m 12ms/step - accuracy: 0.4712 - loss: 0.6992 - val_accuracy: 0.5317 - val_loss: 0.6929\n",
      "Epoch 2/2\n",
      "\u001b[1m140/140\u001b[0m \u001b[32m━━━━━━━━━━━━━━━━━━━━\u001b[0m\u001b[37m\u001b[0m \u001b[1m2s\u001b[0m 11ms/step - accuracy: 0.5571 - loss: 0.6876 - val_accuracy: 0.6017 - val_loss: 0.6876\n",
      "\u001b[1m44/44\u001b[0m \u001b[32m━━━━━━━━━━━━━━━━━━━━\u001b[0m\u001b[37m\u001b[0m \u001b[1m0s\u001b[0m 4ms/step - accuracy: 0.7206 - loss: 0.6758\n",
      "\u001b[1m19/19\u001b[0m \u001b[32m━━━━━━━━━━━━━━━━━━━━\u001b[0m\u001b[37m\u001b[0m \u001b[1m0s\u001b[0m 5ms/step - accuracy: 0.5890 - loss: 0.6875\n",
      "Train Accuracy: 0.7300000190734863\n",
      "Test Accuracy: 0.6016666889190674\n"
     ]
    }
   ],
   "source": [
    "conv_1d_model = Sequential()\n",
    "conv_1d_model.add(Embedding(input_dim=5000, output_dim=32, input_length=L_val))\n",
    "conv_1d_model.add(Conv1D(kernel_size=3, filters=32, activation='relu'))\n",
    "conv_1d_model.add(MaxPooling1D(pool_size=2, strides=2))\n",
    "conv_1d_model.add(Flatten())\n",
    "conv_1d_model.add(Dense(50, activation='relu'))\n",
    "conv_1d_model.add(Dropout(0.2))\n",
    "conv_1d_model.add(Dense(50, activation='relu'))\n",
    "conv_1d_model.add(Dropout(0.5))\n",
    "conv_1d_model.add(Dense(50, activation='relu'))\n",
    "conv_1d_model.add(Dropout(0.5))\n",
    "conv_1d_model.add(Dense(1, activation='sigmoid'))\n",
    "\n",
    "conv_1d_model.compile(optimizer='adam', loss='binary_crossentropy', metrics=['accuracy'])\n",
    "conv_1d_model.fit(X_train, y_train, epochs=2, batch_size=10, validation_data=(X_test, y_test))\n",
    "\n",
    "_, train_acc = conv_1d_model.evaluate(X_train, y_train)\n",
    "_, test_acc = conv_1d_model.evaluate(X_test, y_test)\n",
    "\n",
    "print(f\"Train Accuracy: {train_acc}\")\n",
    "print(f\"Test Accuracy: {test_acc}\")"
   ]
  },
  {
   "cell_type": "markdown",
   "id": "482f28c0-88d8-47ba-b48e-f5a3b504c596",
   "metadata": {},
   "source": [
    "### LSTM"
   ]
  },
  {
   "cell_type": "code",
   "execution_count": 71,
   "id": "1092f411-a924-42fb-844d-62a820b8c15b",
   "metadata": {},
   "outputs": [
    {
     "name": "stdout",
     "output_type": "stream",
     "text": [
      "Epoch 1/10\n",
      "\u001b[1m140/140\u001b[0m \u001b[32m━━━━━━━━━━━━━━━━━━━━\u001b[0m\u001b[37m\u001b[0m \u001b[1m19s\u001b[0m 120ms/step - accuracy: 0.5096 - loss: 0.6940 - val_accuracy: 0.5383 - val_loss: 0.6906\n",
      "Epoch 2/10\n",
      "\u001b[1m140/140\u001b[0m \u001b[32m━━━━━━━━━━━━━━━━━━━━\u001b[0m\u001b[37m\u001b[0m \u001b[1m18s\u001b[0m 125ms/step - accuracy: 0.5342 - loss: 0.6915 - val_accuracy: 0.5350 - val_loss: 0.6893\n",
      "Epoch 3/10\n",
      "\u001b[1m140/140\u001b[0m \u001b[32m━━━━━━━━━━━━━━━━━━━━\u001b[0m\u001b[37m\u001b[0m \u001b[1m18s\u001b[0m 131ms/step - accuracy: 0.5383 - loss: 0.6663 - val_accuracy: 0.5383 - val_loss: 0.7069\n",
      "Epoch 4/10\n",
      "\u001b[1m140/140\u001b[0m \u001b[32m━━━━━━━━━━━━━━━━━━━━\u001b[0m\u001b[37m\u001b[0m \u001b[1m19s\u001b[0m 136ms/step - accuracy: 0.5924 - loss: 0.6190 - val_accuracy: 0.5200 - val_loss: 0.7028\n",
      "Epoch 5/10\n",
      "\u001b[1m140/140\u001b[0m \u001b[32m━━━━━━━━━━━━━━━━━━━━\u001b[0m\u001b[37m\u001b[0m \u001b[1m19s\u001b[0m 136ms/step - accuracy: 0.6248 - loss: 0.6059 - val_accuracy: 0.5017 - val_loss: 0.8182\n",
      "Epoch 6/10\n",
      "\u001b[1m140/140\u001b[0m \u001b[32m━━━━━━━━━━━━━━━━━━━━\u001b[0m\u001b[37m\u001b[0m \u001b[1m19s\u001b[0m 133ms/step - accuracy: 0.6153 - loss: 0.5885 - val_accuracy: 0.5400 - val_loss: 0.8710\n",
      "Epoch 7/10\n",
      "\u001b[1m140/140\u001b[0m \u001b[32m━━━━━━━━━━━━━━━━━━━━\u001b[0m\u001b[37m\u001b[0m \u001b[1m19s\u001b[0m 135ms/step - accuracy: 0.5943 - loss: 0.5748 - val_accuracy: 0.5267 - val_loss: 0.8137\n",
      "Epoch 8/10\n",
      "\u001b[1m140/140\u001b[0m \u001b[32m━━━━━━━━━━━━━━━━━━━━\u001b[0m\u001b[37m\u001b[0m \u001b[1m19s\u001b[0m 137ms/step - accuracy: 0.5846 - loss: 0.5616 - val_accuracy: 0.5483 - val_loss: 0.9085\n",
      "Epoch 9/10\n",
      "\u001b[1m140/140\u001b[0m \u001b[32m━━━━━━━━━━━━━━━━━━━━\u001b[0m\u001b[37m\u001b[0m \u001b[1m20s\u001b[0m 141ms/step - accuracy: 0.6296 - loss: 0.5604 - val_accuracy: 0.5017 - val_loss: 0.9348\n",
      "Epoch 10/10\n",
      "\u001b[1m140/140\u001b[0m \u001b[32m━━━━━━━━━━━━━━━━━━━━\u001b[0m\u001b[37m\u001b[0m \u001b[1m20s\u001b[0m 145ms/step - accuracy: 0.6079 - loss: 0.5569 - val_accuracy: 0.5450 - val_loss: 0.9821\n",
      "\u001b[1m44/44\u001b[0m \u001b[32m━━━━━━━━━━━━━━━━━━━━\u001b[0m\u001b[37m\u001b[0m \u001b[1m3s\u001b[0m 53ms/step - accuracy: 0.6225 - loss: 0.5478\n",
      "\u001b[1m19/19\u001b[0m \u001b[32m━━━━━━━━━━━━━━━━━━━━\u001b[0m\u001b[37m\u001b[0m \u001b[1m1s\u001b[0m 49ms/step - accuracy: 0.5471 - loss: 0.9141\n",
      "Train Accuracy: 0.6178571581840515\n",
      "Test Accuracy: 0.5450000166893005\n"
     ]
    }
   ],
   "source": [
    "model_lstm = Sequential()\n",
    "model_lstm.add(Embedding(input_dim=5000, output_dim=32, input_length=L_val))\n",
    "model_lstm.add(LSTM(32, dropout=0.2))\n",
    "model_lstm.add(Dense(256, activation='relu'))\n",
    "model_lstm.add(Dropout(0.2))\n",
    "model_lstm.add(Dense(1, activation='sigmoid'))\n",
    "\n",
    "model_lstm.compile(optimizer='adam', loss='binary_crossentropy', metrics=['accuracy'])\n",
    "model_lstm.fit(X_train, y_train, epochs=10, batch_size=10, validation_data=(X_test, y_test))\n",
    "\n",
    "_, train_accuracy = model_lstm.evaluate(X_train, y_train)\n",
    "_, test_accuracy = model_lstm.evaluate(X_test, y_test)\n",
    "\n",
    "print(f\"Train Accuracy: {train_accuracy}\")\n",
    "print(f\"Test Accuracy: {test_accuracy}\")"
   ]
  },
  {
   "cell_type": "markdown",
   "id": "0ff0ac51-8de4-486a-81d0-f18e6a5e6c0d",
   "metadata": {},
   "source": [
    "## Conclusions"
   ]
  },
  {
   "cell_type": "markdown",
   "id": "48013de5-8f51-4ba9-9f2b-3ff525fca0d0",
   "metadata": {},
   "source": [
    "Following are my observations:\n",
    "\n",
    "<ul><li>When padding is set to pre, LSTM has the highest testing accuracy (69%) followed by MLP (64%) and 1D CNN (54.5%). Besides the training accuracy for LSTM is nearly 100%.</li>\n",
    "    <li>When padding is set to post, MLP has the highest testing accuracy (62%) followed by 1D CNN (60%) and LSTM (54.5%). Also, MLP has the highest training accuracy of 81%.</li>\n",
    "    <li>Additionally, we can perform hyperparameter tuning to obtain the best parameters.</li>\n",
    "</ul>"
   ]
  },
  {
   "cell_type": "markdown",
   "id": "51d1de8e-c0ec-412e-8f1e-c717db47930a",
   "metadata": {},
   "source": [
    "## References"
   ]
  },
  {
   "cell_type": "markdown",
   "id": "7464c15b-4ffa-40b4-9f36-044bdd33c328",
   "metadata": {},
   "source": [
    "[1] https://pandas.pydata.org/pandas-docs/stable/reference/api/pandas.read_csv.html<br>\n",
    "[2] https://docs.python.org/3/library/os.html#os.listdir<br>\n",
    "[3] https://www.geeksforgeeks.org/python-os-path-join-method/<br>\n",
    "[4] https://stackoverflow.com/questions/39782418/remove-punctuations-in-pandas<br>\n",
    "[5] https://stackoverflow.com/questions/41719259/how-to-remove-numbers-from-string-terms-in-a-pandas-dataframe<br>\n",
    "[6] https://pandas.pydata.org/pandas-docs/stable/reference/api/pandas.DataFrame.sample.html<br>\n",
    "[7] https://pandas.pydata.org/pandas-docs/stable/reference/api/pandas.DataFrame.iloc.html<br>\n",
    "[8] https://pandas.pydata.org/pandas-docs/stable/reference/api/pandas.concat.html<br>\n",
    "[9] https://www.geeksforgeeks.org/how-to-convert-pandas-dataframe-into-a-list/<br>\n",
    "[10] https://www.w3schools.com/python/ref_string_join.asp<br>\n",
    "[11] https://www.nltk.org/api/nltk.tokenize.html<br>\n",
    "[12] https://stackoverflow.com/questions/49215099/get-length-of-values-in-pandas-dataframe-column<br>\n",
    "[13] https://pandas.pydata.org/pandas-docs/stable/reference/api/pandas.DataFrame.apply.html<br>\n",
    "[14] https://pandas.pydata.org/pandas-docs/stable/reference/api/pandas.DataFrame.mean.html<br>\n",
    "[15] https://pandas.pydata.org/pandas-docs/stable/reference/api/pandas.DataFrame.std.html<br>\n",
    "[16] https://seaborn.pydata.org/generated/seaborn.histplot.html<br>\n",
    "[17] https://www.tensorflow.org/api_docs/python/tf/keras/preprocessing/text/Tokenizer<br>\n",
    "[18] https://stackoverflow.com/questions/51956000/what-does-keras-tokenizer-method-exactly-do<br>\n",
    "[19] https://medium.com/analytics-vidhya/understanding-nlp-keras-tokenizer-class-arguments-with-example-551c100f0cbd<br>\n",
    "[20] https://numpy.org/doc/stable/reference/generated/numpy.percentile.html<br>\n",
    "[21] https://hatchjs.com/from-keras-preprocessing-sequence-import-pad_sequences/<br>\n",
    "[22] https://stackoverflow.com/questions/42943291/what-does-keras-io-preprocessing-sequence-pad-sequences-do<br>\n",
    "[23] https://keras.io/api/layers/core_layers/embedding/<br>\n",
    "[24] https://stackoverflow.com/questions/43237124/what-is-the-role-of-flatten-in-keras<br>\n",
    "[25] https://keras.io/api/layers/core_layers/dense/<br>\n",
    "[26] https://machinelearningmastery.com/build-multi-layer-perceptron-neural-network-models-keras/<br>\n",
    "[27] https://machinelearningmastery.com/dropout-regularization-deep-learning-models-keras/<br>\n",
    "[28] https://stackoverflow.com/questions/53696541/how-to-use-maxpooling1d-with-conv1d<br>\n",
    "[29] https://machinelearningmastery.com/make-predictions-long-short-term-memory-models-keras/<br>\n",
    "[30] https://keras.io/api/layers/recurrent_layers/lstm/<br>"
   ]
  }
 ],
 "metadata": {
  "kernelspec": {
   "display_name": "Python 3 (ipykernel)",
   "language": "python",
   "name": "python3"
  },
  "language_info": {
   "codemirror_mode": {
    "name": "ipython",
    "version": 3
   },
   "file_extension": ".py",
   "mimetype": "text/x-python",
   "name": "python",
   "nbconvert_exporter": "python",
   "pygments_lexer": "ipython3",
   "version": "3.11.4"
  }
 },
 "nbformat": 4,
 "nbformat_minor": 5
}
